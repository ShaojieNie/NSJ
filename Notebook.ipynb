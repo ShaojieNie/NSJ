{
 "cells": [
  {
   "cell_type": "markdown",
   "id": "dd6f711e-c9dc-4c45-9108-bc71dbe6e0b3",
   "metadata": {},
   "source": [
    "## My Jupyter Notebook on IBM Waston Studio"
   ]
  },
  {
   "cell_type": "markdown",
   "id": "78ca78a5-1601-41ea-99a9-93bdf99af84d",
   "metadata": {},
   "source": [
    "### Shaojie Nie\n",
    "My desired occupation is data analyst."
   ]
  },
  {
   "cell_type": "markdown",
   "id": "bbcb9078-4b72-43d0-b450-dd541924fdeb",
   "metadata": {},
   "source": [
    "I am interested in data science because I think data analysation has become a primary step when people are solving problems in all industries."
   ]
  },
  {
   "cell_type": "markdown",
   "id": "c5c09696-0fec-4ff7-9dec-3530c6108566",
   "metadata": {},
   "source": [
    "The code in Cell 5 will get the value of **X** in equation **103 - 7X = 40**."
   ]
  },
  {
   "cell_type": "code",
   "execution_count": 1,
   "id": "f0abcc38-fec1-4352-9094-44cdcf080681",
   "metadata": {},
   "outputs": [
    {
     "data": {
      "text/plain": [
       "9.0"
      ]
     },
     "execution_count": 1,
     "metadata": {},
     "output_type": "execute_result"
    }
   ],
   "source": [
    "X = (103 - 40)/7\n",
    "X"
   ]
  },
  {
   "cell_type": "markdown",
   "id": "0d88f3d4-83e0-4f23-92de-e0131031d082",
   "metadata": {},
   "source": [
    "---\n",
    "<ol>\n",
    "    <li>Data Science</li>\n",
    "    <ul>\n",
    "        <li>Tools of data science</li>\n",
    "        <ul>\n",
    "            <li>Jupyter lab</li>\n",
    "            <li>R studio</li>\n",
    "            Type <code>library(name)</code> in R studio can use different packages.\n",
    "            <li>IBM Waston Studio</li>\n",
    "        </ul>\n",
    "        <li>Data science methodology</li>\n",
    "    </ul>\n",
    "    <li>Statistics</li>\n",
    "    </ol>"
   ]
  }
 ],
 "metadata": {
  "kernelspec": {
   "display_name": "Python 3 (ipykernel)",
   "language": "python",
   "name": "python3"
  },
  "language_info": {
   "codemirror_mode": {
    "name": "ipython",
    "version": 3
   },
   "file_extension": ".py",
   "mimetype": "text/x-python",
   "name": "python",
   "nbconvert_exporter": "python",
   "pygments_lexer": "ipython3",
   "version": "3.9.10"
  }
 },
 "nbformat": 4,
 "nbformat_minor": 5
}
